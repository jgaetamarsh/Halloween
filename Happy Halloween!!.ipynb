{
 "cells": [
  {
   "cell_type": "code",
   "execution_count": 1,
   "metadata": {},
   "outputs": [],
   "source": [
    "import pandas as pd\n",
    "import numpy as np\n",
    "import seaborn as sns\n",
    "import matplotlib.pyplot as plt\n",
    "\n",
    "## Read in Data\n",
    "pumpkins = pd.read_csv(\"pumpkins.csv\")"
   ]
  },
  {
   "cell_type": "code",
   "execution_count": 2,
   "metadata": {},
   "outputs": [
    {
     "name": "stdout",
     "output_type": "stream",
     "text": [
      "   City_Name Type       Package      Variety Sub_Variety  Grade       Date  \\\n",
      "0  BALTIMORE  NaN  24 inch bins          NaN         NaN    NaN  4/29/2017   \n",
      "1  BALTIMORE  NaN  24 inch bins          NaN         NaN    NaN   5/6/2017   \n",
      "2  BALTIMORE  NaN  24 inch bins  HOWDEN TYPE         NaN    NaN  9/24/2016   \n",
      "3  BALTIMORE  NaN  24 inch bins  HOWDEN TYPE         NaN    NaN  9/24/2016   \n",
      "4  BALTIMORE  NaN  24 inch bins  HOWDEN TYPE         NaN    NaN  11/5/2016   \n",
      "\n",
      "   Low_Price  High_Price  Mostly_Low  ...  Unit_of_Sale Quality Condition  \\\n",
      "0      270.0       280.0       270.0  ...           NaN     NaN       NaN   \n",
      "1      270.0       280.0       270.0  ...           NaN     NaN       NaN   \n",
      "2      160.0       160.0       160.0  ...           NaN     NaN       NaN   \n",
      "3      160.0       160.0       160.0  ...           NaN     NaN       NaN   \n",
      "4       90.0       100.0        90.0  ...           NaN     NaN       NaN   \n",
      "\n",
      "  Appearance Storage  Crop Repack  Trans_Mode  Unnamed: 24  Unnamed: 25  \n",
      "0        NaN     NaN   NaN      E         NaN          NaN          NaN  \n",
      "1        NaN     NaN   NaN      E         NaN          NaN          NaN  \n",
      "2        NaN     NaN   NaN      N         NaN          NaN          NaN  \n",
      "3        NaN     NaN   NaN      N         NaN          NaN          NaN  \n",
      "4        NaN     NaN   NaN      N         NaN          NaN          NaN  \n",
      "\n",
      "[5 rows x 26 columns]\n"
     ]
    }
   ],
   "source": [
    "print(pumpkins.head())"
   ]
  },
  {
   "cell_type": "code",
   "execution_count": 3,
   "metadata": {},
   "outputs": [
    {
     "name": "stdout",
     "output_type": "stream",
     "text": [
      "<class 'pandas.core.frame.DataFrame'>\n",
      "RangeIndex: 1757 entries, 0 to 1756\n",
      "Data columns (total 26 columns):\n",
      " #   Column           Non-Null Count  Dtype  \n",
      "---  ------           --------------  -----  \n",
      " 0   City_Name        1757 non-null   object \n",
      " 1   Type             45 non-null     object \n",
      " 2   Package          1757 non-null   object \n",
      " 3   Variety          1752 non-null   object \n",
      " 4   Sub_Variety      296 non-null    object \n",
      " 5   Grade            0 non-null      float64\n",
      " 6   Date             1757 non-null   object \n",
      " 7   Low_Price        1757 non-null   float64\n",
      " 8   High_Price       1757 non-null   float64\n",
      " 9   Mostly_Low       1654 non-null   float64\n",
      " 10  Mostly_High      1654 non-null   float64\n",
      " 11  Origin           1754 non-null   object \n",
      " 12  Origin_District  131 non-null    object \n",
      " 13  Item_Size        1478 non-null   object \n",
      " 14  Color            1141 non-null   object \n",
      " 15  Environment      0 non-null      float64\n",
      " 16  Unit_of_Sale     162 non-null    object \n",
      " 17  Quality          0 non-null      float64\n",
      " 18  Condition        0 non-null      float64\n",
      " 19  Appearance       0 non-null      float64\n",
      " 20  Storage          0 non-null      float64\n",
      " 21  Crop             0 non-null      float64\n",
      " 22  Repack           1757 non-null   object \n",
      " 23  Trans_Mode       0 non-null      float64\n",
      " 24  Unnamed: 24      0 non-null      float64\n",
      " 25  Unnamed: 25      103 non-null    object \n",
      "dtypes: float64(13), object(13)\n",
      "memory usage: 357.0+ KB\n",
      "None\n"
     ]
    }
   ],
   "source": [
    "print(pumpkins.info())"
   ]
  },
  {
   "cell_type": "code",
   "execution_count": 4,
   "metadata": {},
   "outputs": [
    {
     "data": {
      "text/plain": [
       "(1757, 26)"
      ]
     },
     "execution_count": 4,
     "metadata": {},
     "output_type": "execute_result"
    }
   ],
   "source": [
    "#shape, how many values\n",
    "pumpkins.shape"
   ]
  },
  {
   "cell_type": "code",
   "execution_count": 5,
   "metadata": {},
   "outputs": [
    {
     "data": {
      "image/png": "[encoded data removed]",
      "text/plain": [
       "<Figure size 432x288 with 1 Axes>"
      ]
     },
     "metadata": {
      "needs_background": "light"
     },
     "output_type": "display_data"
    },
    {
     "data": {
      "text/plain": [
       "<Figure size 432x288 with 0 Axes>"
      ]
     },
     "metadata": {},
     "output_type": "display_data"
    }
   ],
   "source": [
    "sns.histplot(pumpkins.Low_Price)\n",
    "plt.show()\n",
    "plt.clf()"
   ]
  },
  {
   "cell_type": "code",
   "execution_count": 6,
   "metadata": {},
   "outputs": [
    {
     "data": {
      "image/png": "[encoded data removed]",
      "text/plain": [
       "<Figure size 432x288 with 1 Axes>"
      ]
     },
     "metadata": {
      "needs_background": "light"
     },
     "output_type": "display_data"
    },
    {
     "data": {
      "text/plain": [
       "<Figure size 432x288 with 0 Axes>"
      ]
     },
     "metadata": {},
     "output_type": "display_data"
    }
   ],
   "source": [
    "sns.histplot(pumpkins.High_Price)\n",
    "plt.show()\n",
    "plt.clf()"
   ]
  },
  {
   "cell_type": "code",
   "execution_count": 7,
   "metadata": {},
   "outputs": [
    {
     "name": "stdout",
     "output_type": "stream",
     "text": [
      "[nan 'ORANGE' 'WHITE' 'STRIPED']\n"
     ]
    }
   ],
   "source": [
    "#print unique color values\n",
    "print(pumpkins['Color'].unique())"
   ]
  },
  {
   "cell_type": "code",
   "execution_count": 8,
   "metadata": {},
   "outputs": [
    {
     "name": "stdout",
     "output_type": "stream",
     "text": [
      "[nan 'HOWDEN TYPE' 'HOWDEN WHITE TYPE' 'CINDERELLA' 'FAIRYTALE' 'PIE TYPE'\n",
      " 'BIG MACK TYPE' 'MIXED HEIRLOOM VARIETIES' 'MINIATURE' 'BLUE TYPE'\n",
      " 'KNUCKLE HEAD']\n"
     ]
    }
   ],
   "source": [
    "#print unique color values\n",
    "print(pumpkins['Variety'].unique())"
   ]
  },
  {
   "cell_type": "code",
   "execution_count": 9,
   "metadata": {},
   "outputs": [
    {
     "name": "stdout",
     "output_type": "stream",
     "text": [
      "['lge' 'med' 'sml' 'xlge' 'med-lge' 'jbo' nan 'exjbo']\n"
     ]
    }
   ],
   "source": [
    "#print unique color values\n",
    "print(pumpkins['Item_Size'].unique())"
   ]
  },
  {
   "cell_type": "code",
   "execution_count": 10,
   "metadata": {},
   "outputs": [],
   "source": [
    "pumpkins2 = pumpkins[[\"City_Name\",\"Low_Price\",\"High_Price\"]]"
   ]
  },
  {
   "cell_type": "code",
   "execution_count": 11,
   "metadata": {},
   "outputs": [
    {
     "name": "stdout",
     "output_type": "stream",
     "text": [
      "City_Name\n",
      "BOSTON           187.235795\n",
      "MIAMI            170.000000\n",
      "ATLANTA          153.416667\n",
      "DALLAS           149.802920\n",
      "COLUMBIA         141.790875\n",
      "NEW YORK         116.482143\n",
      "CHICAGO          115.691532\n",
      "DETROIT          109.204545\n",
      "BALTIMORE        109.055556\n",
      "PHILADELPHIA     103.754386\n",
      "ST. LOUIS        102.186893\n",
      "SAN FRANCISCO     94.551205\n",
      "LOS ANGELES       85.345806\n",
      "Name: High_Price, dtype: float64\n"
     ]
    }
   ],
   "source": [
    "#highest price pumpkins\n",
    "newpump1 = pumpkins2.groupby('City_Name')['High_Price'].mean().sort_values(ascending=False)\n",
    "print(newpump1)"
   ]
  },
  {
   "cell_type": "code",
   "execution_count": 12,
   "metadata": {},
   "outputs": [],
   "source": [
    "pumpkins4 = pumpkins[[\"Color\",\"Low_Price\",\"High_Price\"]]"
   ]
  },
  {
   "cell_type": "code",
   "execution_count": 13,
   "metadata": {},
   "outputs": [
    {
     "data": {
      "text/html": [
       "<div>\n",
       "<style scoped>\n",
       "    .dataframe tbody tr th:only-of-type {\n",
       "        vertical-align: middle;\n",
       "    }\n",
       "\n",
       "    .dataframe tbody tr th {\n",
       "        vertical-align: top;\n",
       "    }\n",
       "\n",
       "    .dataframe thead th {\n",
       "        text-align: right;\n",
       "    }\n",
       "</style>\n",
       "<table border=\"1\" class=\"dataframe\">\n",
       "  <thead>\n",
       "    <tr style=\"text-align: right;\">\n",
       "      <th></th>\n",
       "      <th>Low_Price</th>\n",
       "      <th>High_Price</th>\n",
       "    </tr>\n",
       "    <tr>\n",
       "      <th>Color</th>\n",
       "      <th></th>\n",
       "      <th></th>\n",
       "    </tr>\n",
       "  </thead>\n",
       "  <tbody>\n",
       "    <tr>\n",
       "      <th>ORANGE</th>\n",
       "      <td>134.452784</td>\n",
       "      <td>146.987828</td>\n",
       "    </tr>\n",
       "    <tr>\n",
       "      <th>STRIPED</th>\n",
       "      <td>18.583333</td>\n",
       "      <td>19.083333</td>\n",
       "    </tr>\n",
       "    <tr>\n",
       "      <th>WHITE</th>\n",
       "      <td>78.223005</td>\n",
       "      <td>81.828638</td>\n",
       "    </tr>\n",
       "  </tbody>\n",
       "</table>\n",
       "</div>"
      ],
      "text/plain": [
       "          Low_Price  High_Price\n",
       "Color                          \n",
       "ORANGE   134.452784  146.987828\n",
       "STRIPED   18.583333   19.083333\n",
       "WHITE     78.223005   81.828638"
      ]
     },
     "execution_count": 13,
     "metadata": {},
     "output_type": "execute_result"
    }
   ],
   "source": [
    "pumpkins4.groupby(['Color']).mean()"
   ]
  },
  {
   "cell_type": "code",
   "execution_count": 14,
   "metadata": {},
   "outputs": [
    {
     "name": "stdout",
     "output_type": "stream",
     "text": [
      "Origin\n",
      "PENNSYLVANIA      250\n",
      "MICHIGAN          237\n",
      "CALIFORNIA        218\n",
      "MASSACHUSETTS     197\n",
      "ILLINOIS          156\n",
      "TEXAS             115\n",
      "OHIO              111\n",
      "CANADA             86\n",
      "MARYLAND           83\n",
      "NORTH CAROLINA     67\n",
      "VIRGINIA           65\n",
      "MEXICO             45\n",
      "NEW JERSEY         33\n",
      "NEW YORK           26\n",
      "DELAWARE           18\n",
      "MISSOURI           11\n",
      "WASHINGTON         10\n",
      "INDIANA             6\n",
      "VERMONT             6\n",
      "ALABAMA             4\n",
      "NEW MEXICO          3\n",
      "COSTA RICA          3\n",
      "FLORIDA             2\n",
      "TENNESSEE           2\n",
      "Name: Origin, dtype: int64\n"
     ]
    }
   ],
   "source": [
    "newpump2 = pumpkins.groupby('Origin')['Origin'].count().sort_values(ascending=False)\n",
    "print(newpump2)"
   ]
  },
  {
   "cell_type": "code",
   "execution_count": 15,
   "metadata": {},
   "outputs": [
    {
     "data": {
      "text/plain": [
       "<seaborn.axisgrid.FacetGrid at 0x1f8a529f340>"
      ]
     },
     "execution_count": 15,
     "metadata": {},
     "output_type": "execute_result"
    },
    {
     "data": {
      "image/png": "[encoded data removed]",
      "text/plain": [
       "<Figure size 2520x360 with 7 Axes>"
      ]
     },
     "metadata": {
      "needs_background": "light"
     },
     "output_type": "display_data"
    }
   ],
   "source": [
    "sns.displot(pumpkins, x=\"Low_Price\", col=\"Item_Size\")"
   ]
  },
  {
   "cell_type": "code",
   "execution_count": 16,
   "metadata": {},
   "outputs": [
    {
     "data": {
      "text/plain": [
       "<seaborn.axisgrid.FacetGrid at 0x1f8a6f7cca0>"
      ]
     },
     "execution_count": 16,
     "metadata": {},
     "output_type": "execute_result"
    },
    {
     "data": {
      "image/png": "[encoded data removed]",
      "text/plain": [
       "<Figure size 1080x360 with 3 Axes>"
      ]
     },
     "metadata": {
      "needs_background": "light"
     },
     "output_type": "display_data"
    }
   ],
   "source": [
    "sns.displot(pumpkins, x=\"Low_Price\", col=\"Color\")"
   ]
  },
  {
   "cell_type": "code",
   "execution_count": null,
   "metadata": {},
   "outputs": [],
   "source": []
  }
 ],
 "metadata": {
  "kernelspec": {
   "display_name": "Python 3",
   "language": "python",
   "name": "python3"
  },
  "language_info": {
   "codemirror_mode": {
    "name": "ipython",
    "version": 3
   },
   "file_extension": ".py",
   "mimetype": "text/x-python",
   "name": "python",
   "nbconvert_exporter": "python",
   "pygments_lexer": "ipython3",
   "version": "3.8.5"
  }
 },
 "nbformat": 4,
 "nbformat_minor": 4
}
